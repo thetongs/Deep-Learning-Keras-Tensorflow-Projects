{
 "cells": [
  {
   "cell_type": "code",
   "execution_count": 24,
   "source": [
    "# Load Libraries\r\n",
    "from sklearn.datasets import make_regression\r\n",
    "from sklearn.preprocessing import StandardScaler\r\n",
    "from tensorflow.keras.models import Sequential\r\n",
    "from tensorflow.keras.layers import Dense\r\n",
    "from tensorflow.keras.optimizers import SGD\r\n",
    "import matplotlib.pyplot as plt"
   ],
   "outputs": [],
   "metadata": {}
  },
  {
   "cell_type": "code",
   "execution_count": 25,
   "source": [
    "# Generate Regression Dataset\r\n",
    "X, y = make_regression(n_samples=1000, n_features=20, noise=0.1, random_state=1)"
   ],
   "outputs": [],
   "metadata": {}
  },
  {
   "cell_type": "code",
   "execution_count": 26,
   "source": [
    "# Standardize Dataset\r\n",
    "X = StandardScaler().fit_transform(X)\r\n",
    "y = StandardScaler().fit_transform(y.reshape(len(y),1))[:,0]\r\n"
   ],
   "outputs": [],
   "metadata": {}
  },
  {
   "cell_type": "code",
   "execution_count": 27,
   "source": [
    "# Split into Train and Test\r\n",
    "n_train = 500\r\n",
    "trainX, testX = X[:n_train, :], X[n_train:, :]\r\n",
    "trainy, testy = y[:n_train], y[n_train:]"
   ],
   "outputs": [],
   "metadata": {}
  },
  {
   "cell_type": "code",
   "execution_count": 28,
   "source": [
    "# Network\r\n",
    "model = Sequential()\r\n",
    "model.add(Dense(25, input_dim=20, activation='relu', kernel_initializer='he_uniform'))\r\n",
    "model.add(Dense(1, activation='linear'))"
   ],
   "outputs": [],
   "metadata": {}
  },
  {
   "cell_type": "code",
   "execution_count": 29,
   "source": [
    "# Compile\r\n",
    "opt = SGD(learning_rate=0.01, momentum=0.9)\r\n",
    "model.compile(loss='mean_squared_logarithmic_error', \r\n",
    "                optimizer=opt,\r\n",
    "                metrics = ['mse']\r\n",
    ")"
   ],
   "outputs": [],
   "metadata": {}
  },
  {
   "cell_type": "code",
   "execution_count": 30,
   "source": [
    "# Fit model\r\n",
    "history = model.fit(trainX, trainy, validation_data=(testX, testy), epochs=100, verbose=0)\r\n",
    "\r\n",
    "# Evaluate the model\r\n",
    "_, train_mse = model.evaluate(trainX, trainy, verbose=0)\r\n",
    "_, test_mse = model.evaluate(testX, testy, verbose=0)\r\n",
    "print(\"Train MSLE : {} and Test MSLE : {}\".format(train_mse, test_mse))\r\n",
    "# Train MSLE : 0.037806395441293716 and Test MSLE : 0.05387485772371292"
   ],
   "outputs": [
    {
     "output_type": "stream",
     "name": "stdout",
     "text": [
      "Train MSLE : 0.1335640698671341 and Test MSLE : 0.17630170285701752\n"
     ]
    }
   ],
   "metadata": {}
  },
  {
   "cell_type": "code",
   "execution_count": 31,
   "source": [
    "# Plot MSE\r\n",
    "plt.plot(history.history['loss'], label='train')\r\n",
    "plt.plot(history.history['val_loss'], label='test')\r\n",
    "plt.title('Mean Squared Error Logarithmic Error Loss')\r\n",
    "plt.xlabel(\"Epochs\")\r\n",
    "plt.ylabel(\"MSLE Loss\")\r\n",
    "plt.legend()\r\n",
    "plt.show()"
   ],
   "outputs": [
    {
     "output_type": "display_data",
     "data": {
      "image/png": "[encoded data removed]",
      "text/plain": [
       "<Figure size 432x288 with 1 Axes>"
      ]
     },
     "metadata": {
      "needs_background": "light"
     }
    }
   ],
   "metadata": {}
  },
  {
   "cell_type": "code",
   "execution_count": 32,
   "source": [
    "!jupyter nbconvert --to script mean_squared_logarithmic_error_loss_training_epochs_regression.ipynb"
   ],
   "outputs": [
    {
     "output_type": "stream",
     "name": "stderr",
     "text": [
      "[NbConvertApp] Converting notebook mean_squared_logarithmic_error_loss_training_epochs_regression.ipynb to script\n",
      "[NbConvertApp] Writing 1884 bytes to mean_squared_logarithmic_error_loss_training_epochs_regression.py\n"
     ]
    }
   ],
   "metadata": {}
  },
  {
   "cell_type": "code",
   "execution_count": null,
   "source": [],
   "outputs": [],
   "metadata": {}
  }
 ],
 "metadata": {
  "orig_nbformat": 4,
  "language_info": {
   "name": "python",
   "version": "3.8.8",
   "mimetype": "text/x-python",
   "codemirror_mode": {
    "name": "ipython",
    "version": 3
   },
   "pygments_lexer": "ipython3",
   "nbconvert_exporter": "python",
   "file_extension": ".py"
  },
  "kernelspec": {
   "name": "python3",
   "display_name": "Python 3.8.8 64-bit ('base': conda)"
  },
  "interpreter": {
   "hash": "17f877e458810ad29c05467e70789456050899caf228e00db20066c685e8045c"
  }
 },
 "nbformat": 4,
 "nbformat_minor": 2
}