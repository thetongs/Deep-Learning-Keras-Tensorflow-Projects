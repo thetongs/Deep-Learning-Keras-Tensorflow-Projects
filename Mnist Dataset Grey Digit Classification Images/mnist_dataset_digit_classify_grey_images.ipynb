{
 "cells": [
  {
   "cell_type": "code",
   "execution_count": 4,
   "source": [
    "from keras.datasets import mnist\r\n",
    "from tensorflow.keras import models\r\n",
    "from tensorflow.keras import layers\r\n"
   ],
   "outputs": [],
   "metadata": {}
  },
  {
   "cell_type": "code",
   "execution_count": 5,
   "source": [
    "# Images are encoded as Numpy Array\r\n",
    "(train_images, train_labels), (test_images, test_labels) = mnist.load_data()\r\n",
    "\r\n",
    "# Number of Images and Shapes\r\n",
    "print(train_images.shape) # (60000, 28, 28)\r\n",
    "print(test_images.shape) # (10000, 28, 28)"
   ],
   "outputs": [
    {
     "output_type": "stream",
     "name": "stdout",
     "text": [
      "(60000, 28, 28)\n",
      "(10000, 28, 28)\n"
     ]
    }
   ],
   "metadata": {}
  },
  {
   "cell_type": "code",
   "execution_count": 6,
   "source": [
    "# Network \r\n",
    "model = models.Sequential([\r\n",
    "        layers.Dense(512, activation='relu'),\r\n",
    "        layers.Dense(10, activation='softmax')\r\n",
    "])"
   ],
   "outputs": [],
   "metadata": {}
  },
  {
   "cell_type": "code",
   "execution_count": 7,
   "source": [
    "# Compilation\r\n",
    "model.compile(\r\n",
    "        optimizer='rmsprop',\r\n",
    "        loss='sparse_categorical_crossentropy',\r\n",
    "        metrics=['accuracy']\r\n",
    ")"
   ],
   "outputs": [],
   "metadata": {}
  },
  {
   "cell_type": "code",
   "execution_count": 8,
   "source": [
    "# Preparing Image Data\r\n",
    "train_images = train_images.reshape((60000, 28 * 28))\r\n",
    "train_images = train_images.astype('float32') / 255\r\n",
    "test_images = test_images.reshape((10000, 28 * 28))\r\n",
    "test_images = test_images.astype('float32') / 255"
   ],
   "outputs": [],
   "metadata": {}
  },
  {
   "cell_type": "code",
   "execution_count": 9,
   "source": [
    "# Fit\r\n",
    "model.fit(train_images, train_labels, epochs=5, batch_size=128)\r\n",
    "# Epoch 1/5\r\n",
    "# 469/469 [==============================] - 5s 7ms/step - loss: 0.2562 - accuracy: 0.9268\r\n",
    "# Epoch 2/5\r\n",
    "# 469/469 [==============================] - 4s 7ms/step - loss: 0.1032 - accuracy: 0.9691\r\n",
    "# Epoch 3/5\r\n",
    "# 469/469 [==============================] - 4s 8ms/step - loss: 0.0676 - accuracy: 0.9798\r\n",
    "# Epoch 4/5\r\n",
    "# 469/469 [==============================] - 4s 8ms/step - loss: 0.0494 - accuracy: 0.9850\r\n",
    "# Epoch 5/5\r\n",
    "# 469/469 [==============================] - 4s 8ms/step - loss: 0.0374 - accuracy: 0.9886\r\n",
    "# <keras.callbacks.History at 0x22701253af0>"
   ],
   "outputs": [
    {
     "output_type": "stream",
     "name": "stdout",
     "text": [
      "Epoch 1/5\n",
      "469/469 [==============================] - 5s 7ms/step - loss: 0.2562 - accuracy: 0.9268\n",
      "Epoch 2/5\n",
      "469/469 [==============================] - 4s 7ms/step - loss: 0.1032 - accuracy: 0.9691\n",
      "Epoch 3/5\n",
      "469/469 [==============================] - 4s 8ms/step - loss: 0.0676 - accuracy: 0.9798\n",
      "Epoch 4/5\n",
      "469/469 [==============================] - 4s 8ms/step - loss: 0.0494 - accuracy: 0.9850\n",
      "Epoch 5/5\n",
      "469/469 [==============================] - 4s 8ms/step - loss: 0.0374 - accuracy: 0.9886\n"
     ]
    },
    {
     "output_type": "execute_result",
     "data": {
      "text/plain": [
       "<keras.callbacks.History at 0x22701253af0>"
      ]
     },
     "metadata": {},
     "execution_count": 9
    }
   ],
   "metadata": {}
  },
  {
   "cell_type": "code",
   "execution_count": 11,
   "source": [
    "# Make Some Predictions\r\n",
    "# All possible Probabilities of Prediction\r\n",
    "# High will win the case\r\n",
    "test_digits = test_images[0:10]\r\n",
    "predictions = model.predict(test_digits)\r\n",
    "print(predictions[0])\r\n",
    "print(predictions[0].argmax())\r\n",
    "print(test_labels[0]) # Check\r\n",
    "# [1.1706976e-09 3.5098917e-11 2.4403894e-06 5.2516549e-05 5.6744659e-13\r\n",
    "#  2.5932634e-08 1.8395179e-14 9.9994493e-01 7.5849531e-09 8.5818435e-08]\r\n",
    "# 7\r\n",
    "# 7"
   ],
   "outputs": [
    {
     "output_type": "stream",
     "name": "stdout",
     "text": [
      "[1.1706976e-09 3.5098917e-11 2.4403894e-06 5.2516549e-05 5.6744659e-13\n",
      " 2.5932634e-08 1.8395179e-14 9.9994493e-01 7.5849531e-09 8.5818435e-08]\n",
      "7\n",
      "7\n"
     ]
    }
   ],
   "metadata": {}
  },
  {
   "cell_type": "code",
   "execution_count": 12,
   "source": [
    "# Evaluate Test Score\r\n",
    "test_loss, test_acc = model.evaluate(test_images, test_labels)\r\n",
    "print('test_acc:', test_acc)\r\n",
    "# 313/313 [==============================] - 1s 2ms/step - loss: 0.0686 - accuracy: 0.9790\r\n",
    "# test_acc: 0.9789999723434448"
   ],
   "outputs": [
    {
     "output_type": "stream",
     "name": "stdout",
     "text": [
      "313/313 [==============================] - 1s 2ms/step - loss: 0.0686 - accuracy: 0.9790\n",
      "test_acc: 0.9789999723434448\n"
     ]
    }
   ],
   "metadata": {}
  },
  {
   "cell_type": "code",
   "execution_count": 13,
   "source": [
    "# Jupyter to Python \r\n",
    "!jupyter nbconvert --to script \"mnist_dataset_digit_classify_grey_images.ipynb\""
   ],
   "outputs": [
    {
     "output_type": "stream",
     "name": "stderr",
     "text": [
      "[NbConvertApp] Converting notebook mnist_dataset_digit_classify_grey_images.ipynb to script\n",
      "[NbConvertApp] Writing 2526 bytes to mnist_dataset_digit_classify_grey_images.py\n"
     ]
    }
   ],
   "metadata": {}
  }
 ],
 "metadata": {
  "orig_nbformat": 4,
  "language_info": {
   "name": "python",
   "version": "3.8.8",
   "mimetype": "text/x-python",
   "codemirror_mode": {
    "name": "ipython",
    "version": 3
   },
   "pygments_lexer": "ipython3",
   "nbconvert_exporter": "python",
   "file_extension": ".py"
  },
  "kernelspec": {
   "name": "python3",
   "display_name": "Python 3.8.8 64-bit ('base': conda)"
  },
  "interpreter": {
   "hash": "17f877e458810ad29c05467e70789456050899caf228e00db20066c685e8045c"
  }
 },
 "nbformat": 4,
 "nbformat_minor": 2
}